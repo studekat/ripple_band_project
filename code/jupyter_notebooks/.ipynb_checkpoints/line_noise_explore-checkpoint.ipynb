{
 "cells": [
  {
   "cell_type": "markdown",
   "id": "abcef0dd-5c37-4a5f-9eed-42f7c45a6c1a",
   "metadata": {},
   "source": [
    "# Examining line noise spike trains"
   ]
  },
  {
   "cell_type": "markdown",
   "id": "59731d25-b563-4fb3-b362-8810b0119abc",
   "metadata": {},
   "source": [
    "## Import"
   ]
  },
  {
   "cell_type": "code",
   "execution_count": 1,
   "id": "a991e4fd-0879-4787-8f98-df9c2d0a7af5",
   "metadata": {},
   "outputs": [],
   "source": [
    "import os \n",
    "os.chdir('/CSNG/studekat/ripple_band_project/code')"
   ]
  },
  {
   "cell_type": "code",
   "execution_count": 2,
   "id": "04077b6f-aa52-411a-9b10-98326adf8470",
   "metadata": {},
   "outputs": [],
   "source": [
    "from functions_analysis import *\n",
    "import pandas as pd\n",
    "import numpy as np\n",
    "import yaml\n",
    "import pickle\n",
    "import neo\n",
    "import matplotlib.pyplot as plt"
   ]
  },
  {
   "cell_type": "markdown",
   "id": "90bb5a4b-05fe-4321-98d7-fee83608470a",
   "metadata": {},
   "source": [
    "## Parameters"
   ]
  },
  {
   "cell_type": "code",
   "execution_count": 3,
   "id": "1e36a2f8-fd20-4276-aa31-a5f492a207fa",
   "metadata": {},
   "outputs": [],
   "source": [
    "with open(\"/CSNG/studekat/ripple_band_project/code/params_analysis.yml\") as f:\n",
    "    params = yaml.safe_load(f)\n",
    "\n",
    "DATA_FOLDER = params['data_folder'] ### folder with all the preprocessed data\n",
    "DATES = params['dates']\n",
    "\n",
    "DF_FOLDER = '/CSNG/studekat/ripple_band_project/dataframes' ### here the resulting dataframes will be saved\n",
    "MONKEY_LIST = ['L','N','F','A']"
   ]
  },
  {
   "cell_type": "code",
   "execution_count": 4,
   "id": "18770196-ceb8-433d-9892-033bb189d4e4",
   "metadata": {},
   "outputs": [],
   "source": [
    "with open(\"/CSNG/studekat/ripple_band_project/code/params_plotting.yml\") as f:\n",
    "    params_plot = yaml.safe_load(f)\n",
    "\n",
    "CLASS_COLORS = params_plot['colors_class']"
   ]
  },
  {
   "cell_type": "markdown",
   "id": "3bc5f6bf-aa79-4b2a-ae33-9b50e93311d5",
   "metadata": {},
   "source": [
    "## Functions"
   ]
  },
  {
   "cell_type": "code",
   "execution_count": 5,
   "id": "90376db2-7ad0-492c-ba6d-abb933e40f1f",
   "metadata": {},
   "outputs": [],
   "source": [
    "def plot_noise_stats(df_prop,spike_block,bin_w=None,title='',\n",
    "             num_cols=4,class_colors={},N_lags = 100,hide_t0=False):\n",
    "    \"\"\"\n",
    "    Plots ACG, waveforms and spike rasterplot for each cell in the block.\n",
    "    \"\"\"\n",
    "    from statsmodels.graphics.tsaplots import acf\n",
    "    \n",
    "    spike_arr = spike_block_to_arr(spike_block)\n",
    "    num_cells = spike_arr.shape[0]\n",
    "\n",
    "    for cell_idx in range(num_cells):\n",
    "        fig, ax = plt.subplots(2,2)\n",
    "        fig.set_figwidth(10)\n",
    "        fig.set_figheight(10)\n",
    "\n",
    "        spike_train = spike_block.segments[0].spiketrains[cell_idx]\n",
    "        cell_name = spike_train.annotations['nix_name']\n",
    "        cell_SNR = spike_train.annotations['SNR']\n",
    "        df_cell = df_prop[df_prop['cell_name']==cell_name]\n",
    "        \n",
    "        #### ACG PLOT \n",
    "        final_cl = df_cell['final_class'].values[0]\n",
    "        ch_idx = df_cell['train_order'].values[0]\n",
    "        spike_vec = spike_arr[ch_idx,:]\n",
    "        if bin_w is not None:\n",
    "            spike_vec = bin_arr(spike_vec,bin_width=bin_w,step=bin_w)\n",
    "        autocorr = acf(spike_vec, nlags=N_lags)\n",
    "        ax[0,0].plot(autocorr[1:],color=class_colors[final_cl],alpha=0.7)\n",
    "\n",
    "        #### Raster plot - the first 1 s of recording\n",
    "        ax[0,1].imshow(spike_vec[:1000],aspect='auto')\n",
    "\n",
    "        #### Example waveforms\n",
    "        for sp_wf in spike_train.waveforms:\n",
    "            ax[1,0].plt(sp_wf.magnitude,alpha=0.2)\n",
    "\n",
    "        #### Average waveform\n",
    "        ax[1,1].plt(df_cell['acg_wf'])\n",
    "\n",
    "        for r, c in [[0,0],[0,1],[1,0],[1,1]]:\n",
    "            ax[r,c].spines['top'].set_visible(False)\n",
    "            ax[r,c].spines['right'].set_visible(False)\n",
    "\n",
    "        plt.suptitle(f'{title}, Cell class: {final_class}, SNR: {cell_SNR} \\n {cell_name}')\n",
    "    \n",
    "        plt.tight_layout()\n",
    "        plt.show()\n",
    "        plt.close()\n",
    "    return"
   ]
  },
  {
   "cell_type": "markdown",
   "id": "7b00a7b7-3e7c-4e20-a4ff-4220fe6babee",
   "metadata": {},
   "source": [
    "## Plotting"
   ]
  },
  {
   "cell_type": "code",
   "execution_count": 6,
   "id": "9fa86c15-92f6-4c9f-8d01-443eac0b5817",
   "metadata": {},
   "outputs": [],
   "source": [
    "NOISY_ARRAYS = {'20241216_B1': [1,2,3,4,5],\n",
    "                '20170809': [6],\n",
    "}"
   ]
  },
  {
   "cell_type": "code",
   "execution_count": null,
   "id": "e11d8ec4-dcd2-4ae2-8479-8495c1ed8cbb",
   "metadata": {},
   "outputs": [
    {
     "name": "stdout",
     "output_type": "stream",
     "text": [
      "L\n",
      "20170725\n",
      "20170809\n",
      "6\n"
     ]
    }
   ],
   "source": [
    "##### MONKEY L all dates, 2 ms bin ######\n",
    "BIN_W = 2\n",
    "N_LAGS = 150\n",
    "HIDE_0 = True\n",
    "\n",
    "for monkey in ['L','F']: # MONKEY_LIST\n",
    "    print(monkey)\n",
    "    for date in params['dates'][monkey]['RS']:\n",
    "        print(date)\n",
    "        if date in ['20241216_B1','20170809']: ### only these dates have noisy cells\n",
    "            #### loading SUA INFO DF\n",
    "            with open(f'{DF_FOLDER}/sua_prop_all/monkey{monkey}_all_arrays_date_{date}.pkl', \"rb\") as file:\n",
    "                df_prop = pickle.load(file)\n",
    "                for array in NOISY_ARRAYS[date]:\n",
    "                    print(array)\n",
    "                    try:\n",
    "                        spike_block = load_block(monkey,array,type_rec='RS',type_sig='spikes',\n",
    "                                             date=date,data_folder=DATA_FOLDER) \n",
    "                        #### plotting ACG, raster plots, wave forms for each of the cell in the spike block\n",
    "                        plot_noise_stats(df_prop,spike_block,bin_w=BIN_W,hide_t0=True,\n",
    "                                 title=f'{monkey} {date}, arr. {array}, Noise stats. \\n bin: {BIN_W}, n_lags: {N_LAGS}, hide T0: {HIDE_0}',\n",
    "                                  num_cols=4,class_colors=CLASS_COLORS)\n",
    "                    except:\n",
    "                        pass"
   ]
  },
  {
   "cell_type": "code",
   "execution_count": null,
   "id": "6641c2d2-f78a-4b05-a455-3c26981aeafe",
   "metadata": {},
   "outputs": [],
   "source": []
  }
 ],
 "metadata": {
  "kernelspec": {
   "display_name": "Python 3 (ipykernel)",
   "language": "python",
   "name": "python3"
  },
  "language_info": {
   "codemirror_mode": {
    "name": "ipython",
    "version": 3
   },
   "file_extension": ".py",
   "mimetype": "text/x-python",
   "name": "python",
   "nbconvert_exporter": "python",
   "pygments_lexer": "ipython3",
   "version": "3.12.3"
  }
 },
 "nbformat": 4,
 "nbformat_minor": 5
}

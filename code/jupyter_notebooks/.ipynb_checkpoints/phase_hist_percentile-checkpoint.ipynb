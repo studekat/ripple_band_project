{
 "cells": [
  {
   "cell_type": "markdown",
   "id": "51bdb8b7-b4d7-4956-a0bd-cabe1297d728",
   "metadata": {},
   "source": [
    "# Phase histograms, different percentiles"
   ]
  },
  {
   "cell_type": "markdown",
   "id": "73448d80-cf92-4451-ad1c-a6cd851d4709",
   "metadata": {},
   "source": [
    "## Import"
   ]
  },
  {
   "cell_type": "code",
   "execution_count": 1,
   "id": "c9f3b3dd-0a63-4bac-9ba2-c776072e85ff",
   "metadata": {},
   "outputs": [],
   "source": [
    "import os \n",
    "os.chdir('/CSNG/studekat/ripple_band_project/code')"
   ]
  },
  {
   "cell_type": "code",
   "execution_count": 2,
   "id": "dc329302-07da-4b55-a3ea-4f1d3e8ee7ab",
   "metadata": {},
   "outputs": [],
   "source": [
    "from functions_analysis import *\n",
    "import pandas as pd\n",
    "import numpy as np\n",
    "import yaml\n",
    "import pickle\n",
    "import neo\n",
    "import matplotlib.pyplot as plt"
   ]
  },
  {
   "cell_type": "markdown",
   "id": "256f0c33-6e54-4343-a568-49e4487c2c10",
   "metadata": {},
   "source": [
    "## Parameters"
   ]
  },
  {
   "cell_type": "code",
   "execution_count": 19,
   "id": "757d7e7c-4949-49a9-a05d-68ad2e5ea7f5",
   "metadata": {},
   "outputs": [],
   "source": [
    "with open(\"/CSNG/studekat/ripple_band_project/code/params_analysis.yml\") as f:\n",
    "    params = yaml.safe_load(f)\n",
    "\n",
    "DATA_FOLDER = params['data_folder'] ### folder with all the preprocessed data\n",
    "DATES = params['dates']\n",
    "\n",
    "DF_FOLDER = '/CSNG/studekat/ripple_band_project/dataframes' ### here the resulting dataframes will be saved\n",
    "MONKEY_LIST = ['L','N','F','A']\n",
    "AREAS_MERGED = params['areas_merged']\n",
    "FINAL_CLASSES = params['final_classes']"
   ]
  },
  {
   "cell_type": "code",
   "execution_count": 4,
   "id": "56c02730-9643-4631-8746-164c4f18fff6",
   "metadata": {},
   "outputs": [],
   "source": [
    "with open(\"/CSNG/studekat/ripple_band_project/code/params_plotting.yml\") as f:\n",
    "    params_plot = yaml.safe_load(f)\n",
    "\n",
    "CLASS_COLORS = params_plot['colors_class']"
   ]
  },
  {
   "cell_type": "markdown",
   "id": "23200651-8374-49b9-880f-0a958aff88fa",
   "metadata": {},
   "source": [
    "## Data loading"
   ]
  },
  {
   "cell_type": "code",
   "execution_count": 6,
   "id": "e3067b15-8852-49e8-bf28-1f9174ba36f7",
   "metadata": {},
   "outputs": [
    {
     "name": "stdout",
     "output_type": "stream",
     "text": [
      "L\n",
      "20170725\n",
      "20170809\n",
      "20170810\n",
      "N\n",
      "20240719_B1\n",
      "20240719_B2\n",
      "F\n",
      "20240122_B1\n",
      "20241216_B1\n",
      "A\n",
      "20190815\n",
      "20190816\n"
     ]
    }
   ],
   "source": [
    "df_list = []\n",
    "for monkey in MONKEY_LIST:\n",
    "    print(monkey)\n",
    "    all_RS_dates = params['dates'][monkey]['RS']\n",
    "    for date in all_RS_dates:\n",
    "        print(date)\n",
    "        with open(f'{DF_FOLDER}/sua_prop_all/monkey{monkey}_all_arrays_date_{date}.pkl', \"rb\") as file:\n",
    "             df_sua = pickle.load(file)\n",
    "        df_list.append(df_sua)\n",
    "\n",
    "df_merged = pd.concat(df_list,ignore_index=True)"
   ]
  },
  {
   "cell_type": "markdown",
   "id": "c53f927b-756e-4188-a419-dfdb89847f43",
   "metadata": {},
   "source": [
    "## Functions"
   ]
  },
  {
   "cell_type": "code",
   "execution_count": null,
   "id": "6751ee90-6f89-4dce-8461-e66b88602701",
   "metadata": {},
   "outputs": [],
   "source": [
    "def plot_phases_percentile(sua_df,phase_col_name,env_col_name,percentile=50,areas_list=AREAS_MERGED,\n",
    "                           cell_types=FINAL_CLASSES,class_colors=CLASS_COLORS,\n",
    "                           title='',y_max=0.3):\n",
    "    \"\"\"\n",
    "    TODO\n",
    "\n",
    "    Using spikes from the phase col, but the env. col for these spikes must be also provided.\n",
    "    \"\"\"\n",
    "\n",
    "    ### for each cell divide spikes into above and below env_th for a given percentile\n",
    "    ### and append both lists into a correct row in sua_df (can be modified by this)\n",
    "    th_env_name = f'env_th_perc_{percentile}'\n",
    "    list_phase_high_lists = [] ### for each row of DF, there is a list of phases of spikes (resulting in list of lists/arrays)\n",
    "    list_phase_low_lists = []\n",
    "    for idx in sua_df.index:\n",
    "        env_th = np.array(sua_df.loc[idx,th_env_name])\n",
    "        phase_vector = np.array(sua_df.loc[idx,phase_col_name])\n",
    "        env_vector = np.array(sua_df.loc[idx,env_col_name])\n",
    "        mask = (env_vector>=env_th)\n",
    "        phase_above = phase_vector[mask]\n",
    "        phase_below = phase_vector[~mask]\n",
    "        list_phase_high_lists.append(phase_above)\n",
    "        list_phase_low_lists.append(phase_below)\n",
    "\n",
    "    sua_df['high_RB_phases'] = list_phase_high_lists\n",
    "    sua_df['low_RB_phases'] = list_phase_low_lists\n",
    "    \n",
    "    ### merging spikes into classes/area\n",
    "    phases_high_pooled_area = {}\n",
    "    phases_low_pooled_area = {}\n",
    "    for area in areas_list:\n",
    "        phases_high_pooled_area[area] = {}\n",
    "        phases_low_pooled_area[area] = {}\n",
    "        sua_area = sua_df[sua_df['area_merged']==area]\n",
    "        for cl in cell_types:\n",
    "            sua_cell_type = sua_area[sua_area['final_class']==cl]\n",
    "            phases_high_lists = sua_cell_type[high_RB_phases].values\n",
    "            merged_high_phases_list = list_merge(phases_high_lists)   \n",
    "            phases_high_pooled_area[area][cl] = merged_high_phases_list\n",
    "            phases_low_lists = sua_cell_type[low_RB_phases].values\n",
    "            merged_low_phases_list = list_merge(phases_low_lists)   \n",
    "            phases_low_pooled_area[area][cl] = merged_low_phases_list\n",
    "\n",
    "    ### PLOTTING SPIKE PHASES ABOVE PERCENTILE TH.\n",
    "    fig, ax = plt.subplots(1,num_areas)\n",
    "    fig.set_figwidth(4*num_areas)\n",
    "    fig.set_figheight(5)\n",
    "\n",
    "    plt.suptitle(f'{title} \\n Phase histograms (HIGH ENV.), perc. {percentile}')\n",
    "\n",
    "    for area_idx in range(num_areas):\n",
    "        ax[area_idx].set_title(areas_list[area_idx])\n",
    "        area = areas_list[area_idx]\n",
    "        for cell_idx in range(num_cell_types):\n",
    "            cl = cell_types[cell_idx]\n",
    "            #ax[area_idx].hist(phases_pooled_area[area][cl][::N],color=CLASS_COLORS[cl],alpha=0.8,density=True,bins=n_bins,histtype='step') #,label=cl)\n",
    "            hist_values, bin_edges = np.histogram(phases_high_pooled_area[area][cl][::N], bins=n_bins, density=True)\n",
    "            ax[area_idx].step(bin_edges[:-1], hist_values, color=CLASS_COLORS[cl], where='mid',alpha=0.6)\n",
    "            r, phi = circular_avg(phases_pooled_area[area][cl][::N],bins=n_bins)\n",
    "            ax[area_idx].axvline(phi,color=CLASS_COLORS[cl],alpha=0.6,ls='dashed',label=f'{cl}, R, Phi: {np.round(r,2), np.round(phi,2)}')\n",
    "            ax[area_idx].spines['top'].set_visible(False)\n",
    "            ax[area_idx].spines['right'].set_visible(False)\n",
    "    \n",
    "            ### plotting ripple band oscillation\n",
    "            x_values = np.linspace(-np.pi, np.pi, 100)  # Generate 100 points from -π to π\n",
    "            cos_values = (np.cos(x_values)+1)/7\n",
    "            ax[area_idx].plot(x_values,cos_values,color='lightgray',alpha=0.1) #,label='RB')\n",
    "            ax[area_idx].set_ylim([0,y_max])\n",
    "            \n",
    "            ax[area_idx].legend(loc='upper center', bbox_to_anchor=(0.5, -0.1),fontsize=7)\n",
    "    \n",
    "    plt.tight_layout()\n",
    "    plt.show()\n",
    "    plt.close()\n",
    "\n",
    "    ### PLOTTING SPIKE PHASES BELOW PERCENTILE THRESHOLD\n",
    "\n",
    "    fig, ax = plt.subplots(1,num_areas)\n",
    "    fig.set_figwidth(4*num_areas)\n",
    "    fig.set_figheight(5)\n",
    "\n",
    "    plt.suptitle(f'{title} \\n Phase histograms (LOW ENV.), perc. {percentile}')\n",
    "\n",
    "    for area_idx in range(num_areas):\n",
    "        ax[area_idx].set_title(areas_list[area_idx])\n",
    "        area = areas_list[area_idx]\n",
    "        for cell_idx in range(num_cell_types):\n",
    "            cl = cell_types[cell_idx]\n",
    "            #ax[area_idx].hist(phases_pooled_area[area][cl][::N],color=CLASS_COLORS[cl],alpha=0.8,density=True,bins=n_bins,histtype='step') #,label=cl)\n",
    "            hist_values, bin_edges = np.histogram(phases_low_pooled_area[area][cl][::N], bins=n_bins, density=True)\n",
    "            ax[area_idx].step(bin_edges[:-1], hist_values, color=CLASS_COLORS[cl], where='mid',alpha=0.6)\n",
    "            r, phi = circular_avg(phases_pooled_area[area][cl][::N],bins=n_bins)\n",
    "            ax[area_idx].axvline(phi,color=CLASS_COLORS[cl],alpha=0.6,ls='dashed',label=f'{cl}, R, Phi: {np.round(r,2), np.round(phi,2)}')\n",
    "            ax[area_idx].spines['top'].set_visible(False)\n",
    "            ax[area_idx].spines['right'].set_visible(False)\n",
    "    \n",
    "            ### plotting ripple band oscillation\n",
    "            x_values = np.linspace(-np.pi, np.pi, 100)  # Generate 100 points from -π to π\n",
    "            cos_values = (np.cos(x_values)+1)/7\n",
    "            ax[area_idx].plot(x_values,cos_values,color='lightgray',alpha=0.1) #,label='RB')\n",
    "            ax[area_idx].set_ylim([0,y_max])\n",
    "            \n",
    "            ax[area_idx].legend(loc='upper center', bbox_to_anchor=(0.5, -0.1),fontsize=7)\n",
    "    \n",
    "    plt.tight_layout()\n",
    "    plt.show()\n",
    "    plt.close()\n",
    "\n",
    "    ### drop new columns from the DF\n",
    "    sua_df.drop(['high_RB_phases','low_RB_phases'],axis=1)\n",
    "    return"
   ]
  },
  {
   "cell_type": "markdown",
   "id": "edbb35aa-b60e-4607-b5c4-db37ac00d7cb",
   "metadata": {},
   "source": [
    "## Sandbox"
   ]
  },
  {
   "cell_type": "code",
   "execution_count": 37,
   "id": "6bf41b03-0acc-4b75-81b9-d42d5ad289e9",
   "metadata": {},
   "outputs": [
    {
     "data": {
      "text/plain": [
       "Index(['FR', 'CV_ISI', 'ISI', 'env_th_median', 'list_phases', 'list_env',\n",
       "       'list_env_phases', 'list_phases_high_env', 'list_env_phases_high_env',\n",
       "       'list_phases_low_env', 'list_env_phases_low_env', 'FR_high_env_median',\n",
       "       'FR_low_env_median', 'FR_high_env_low_env_median_ratio',\n",
       "       'pref_phase_all_spikes', 'norm_phase_sel_01_all_spikes',\n",
       "       'pref_env_phase_all_spikes', 'norm_env_phase_sel_01_all_spikes',\n",
       "       'env_th_perc_10', 'env_th_perc_20', 'env_th_perc_30', 'env_th_perc_40',\n",
       "       'env_th_perc_50', 'env_th_perc_60', 'env_th_perc_70', 'env_th_perc_80',\n",
       "       'env_th_perc_90', 'env_th_perc_95', 'cell_name', 'pref_OP',\n",
       "       'selectivity_OP_01', 'channel_order', 'array', 'area', 'train_order',\n",
       "       'avg_wf', 'amp_wf', 'width_wf', 'avg_wf_zscored', 'amp_wf_zscored',\n",
       "       'width_wf_class', 'wf_direction', 'final_class'],\n",
       "      dtype='object')"
      ]
     },
     "execution_count": 37,
     "metadata": {},
     "output_type": "execute_result"
    }
   ],
   "source": [
    "df_merged.keys()"
   ]
  },
  {
   "cell_type": "markdown",
   "id": "81090f77-0b77-418d-a0ca-7c1882cfb036",
   "metadata": {},
   "source": [
    "## Plotting"
   ]
  },
  {
   "cell_type": "code",
   "execution_count": null,
   "id": "c3849bed-ea7d-45ca-b40a-2d97bb4186f4",
   "metadata": {},
   "outputs": [],
   "source": [
    "v = plot_phases_percentile(df_merged,'list_phases','list_env',percentile=50,areas_list=AREAS_MERGED,\n",
    "                           cell_types=FINAL_CLASSES,class_colors=CLASS_COLORS,\n",
    "                           title='',y_max=0.3)"
   ]
  },
  {
   "cell_type": "code",
   "execution_count": null,
   "id": "c03a0712-a1d8-4f82-afd4-1ed07bdad154",
   "metadata": {},
   "outputs": [],
   "source": []
  }
 ],
 "metadata": {
  "kernelspec": {
   "display_name": "Python 3 (ipykernel)",
   "language": "python",
   "name": "python3"
  },
  "language_info": {
   "codemirror_mode": {
    "name": "ipython",
    "version": 3
   },
   "file_extension": ".py",
   "mimetype": "text/x-python",
   "name": "python",
   "nbconvert_exporter": "python",
   "pygments_lexer": "ipython3",
   "version": "3.12.3"
  }
 },
 "nbformat": 4,
 "nbformat_minor": 5
}

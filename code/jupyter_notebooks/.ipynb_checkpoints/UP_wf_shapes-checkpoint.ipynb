{
 "cells": [
  {
   "cell_type": "markdown",
   "id": "53dc7a49-e348-4dd6-8967-30648f895311",
   "metadata": {},
   "source": [
    "# Visualisation of UP waveforms"
   ]
  },
  {
   "cell_type": "markdown",
   "id": "c44de52c-0f9d-46f5-a973-6258a3d5d02f",
   "metadata": {},
   "source": [
    "## Import"
   ]
  },
  {
   "cell_type": "code",
   "execution_count": 1,
   "id": "5429176d-472b-48b2-bb6c-c376ef78dcac",
   "metadata": {},
   "outputs": [],
   "source": [
    "import os \n",
    "os.chdir('/CSNG/studekat/ripple_band_project/code')"
   ]
  },
  {
   "cell_type": "code",
   "execution_count": 11,
   "id": "1e25d4b7-ec04-476d-9343-439388c668c5",
   "metadata": {},
   "outputs": [],
   "source": [
    "from functions_analysis import *\n",
    "import pandas as pd\n",
    "import numpy as np\n",
    "import yaml\n",
    "import pickle\n",
    "import neo\n",
    "import matplotlib.pyplot as plt"
   ]
  },
  {
   "cell_type": "markdown",
   "id": "6ac401cb-6b54-4712-b3e2-a3e631931b18",
   "metadata": {},
   "source": [
    "## Parameters"
   ]
  },
  {
   "cell_type": "code",
   "execution_count": 3,
   "id": "a813008d-9277-4680-80d1-ae912365d97d",
   "metadata": {},
   "outputs": [],
   "source": [
    "with open(\"/CSNG/studekat/ripple_band_project/code/params_analysis.yml\") as f:\n",
    "    params = yaml.safe_load(f)\n",
    "### AUX = params['aux']\n",
    "\n",
    "DATA_FOLDER = params['data_folder'] ### folder with all the preprocessed data\n",
    "DATES = params['dates']\n",
    "\n",
    "DF_FOLDER = '/CSNG/studekat/ripple_band_project/dataframes' ### here the resulting dataframes will be saved\n",
    "MONKEY_LIST = ['L','N','F','A']"
   ]
  },
  {
   "cell_type": "markdown",
   "id": "9c338311-1f6d-4323-a7e7-ef2d52b3c39b",
   "metadata": {},
   "source": [
    "## Data loading"
   ]
  },
  {
   "cell_type": "code",
   "execution_count": 7,
   "id": "86b1e69b-0344-40a0-bb2e-37d43287cc8b",
   "metadata": {},
   "outputs": [
    {
     "name": "stdout",
     "output_type": "stream",
     "text": [
      "L\n",
      "20170725\n"
     ]
    }
   ],
   "source": [
    "df_list = []\n",
    "for monkey in ['L']:\n",
    "    print(monkey)\n",
    "    all_RS_dates = params['dates'][monkey]['RS']\n",
    "    for date in all_RS_dates[:1]:\n",
    "        print(date)\n",
    "        with open(f'{DF_FOLDER}/sua_prop_all/monkey{monkey}_all_arrays_date_{date}.pkl', \"rb\") as file:\n",
    "             df_sua = pickle.load(file)\n",
    "        df_list.append(df_sua)\n",
    "\n",
    "df_merged = pd.concat(df_list,ignore_index=True)"
   ]
  },
  {
   "cell_type": "markdown",
   "id": "9c746ed7-befb-4de7-96d9-26e1c6e249ef",
   "metadata": {},
   "source": [
    "## Functions"
   ]
  },
  {
   "cell_type": "code",
   "execution_count": 83,
   "id": "5e81f081-52d9-44ab-8b4c-8d1f12cee1e2",
   "metadata": {},
   "outputs": [],
   "source": [
    "def plot_UP_wfs(df_prop,num_cols=4):\n",
    "    \"\"\"\n",
    "    Plots all UP wave forms the dataframe.\n",
    "    \"\"\"\n",
    "    df_up = df_prop[df_prop['wf_direction']=='UP']\n",
    "    num_rows = int(np.ceil(df_up.shape[0]/num_cols))\n",
    "    \n",
    "    fig, ax = plt.subplots(num_rows,num_cols,sharex=True,sharey=True)\n",
    "    fig.set_figheight(2*num_rows)\n",
    "    fig.set_figwidth(12)\n",
    "\n",
    "    plt.suptitle('UP Waveforms')\n",
    "\n",
    "    for row in range(num_rows):\n",
    "        for col in range(num_cols):\n",
    "            df_row = int(row*num_cols + col)\n",
    "            wf_zsc = df_up.iloc[df_row]['avg_wf_zscored']\n",
    "            if num_rows>1:\n",
    "                axi = ax[row,col]\n",
    "            else:\n",
    "                axi = ax[col]\n",
    "\n",
    "            axi.plot(wf_zsc,color='blue',alpha=0.7)\n",
    "            axi.spines['top'].set_visible(False)\n",
    "            axi.spines['right'].set_visible(False)\n",
    "            axi.set_xticks(np.arange(0,91,15))\n",
    "            axi.set_xticklabels(np.linspace(0,3,7,endpoint=True))\n",
    "            axi.set_xlabel('ms')\n",
    "\n",
    "    plt.show()\n",
    "    plt.close()\n",
    "    return"
   ]
  },
  {
   "cell_type": "markdown",
   "id": "981bfdc3-45fb-4dfc-acfb-65259538c56c",
   "metadata": {},
   "source": [
    "## Plotting"
   ]
  },
  {
   "cell_type": "code",
   "execution_count": 84,
   "id": "22d7d73f-7f55-4eca-8bd6-001428032db1",
   "metadata": {},
   "outputs": [
    {
     "data": {
      "image/png": "[encoded data removed]",
      "text/plain": [
       "<Figure size 1200x200 with 4 Axes>"
      ]
     },
     "metadata": {},
     "output_type": "display_data"
    }
   ],
   "source": [
    "plot_UP_wfs(df_merged,num_cols=4)"
   ]
  },
  {
   "cell_type": "code",
   "execution_count": null,
   "id": "9823067a-ce1f-431f-81b0-45943aa1aaad",
   "metadata": {},
   "outputs": [],
   "source": []
  }
 ],
 "metadata": {
  "kernelspec": {
   "display_name": "Python 3 (ipykernel)",
   "language": "python",
   "name": "python3"
  },
  "language_info": {
   "codemirror_mode": {
    "name": "ipython",
    "version": 3
   },
   "file_extension": ".py",
   "mimetype": "text/x-python",
   "name": "python",
   "nbconvert_exporter": "python",
   "pygments_lexer": "ipython3",
   "version": "3.12.3"
  }
 },
 "nbformat": 4,
 "nbformat_minor": 5
}

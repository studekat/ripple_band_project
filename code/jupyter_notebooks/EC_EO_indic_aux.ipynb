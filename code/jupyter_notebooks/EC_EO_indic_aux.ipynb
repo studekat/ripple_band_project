{
 "cells": [
  {
   "cell_type": "markdown",
   "id": "68e75a05-1a63-45df-9cc0-ad16e8761514",
   "metadata": {},
   "source": [
    "# Creating EC, EO indicators for RS recordings"
   ]
  },
  {
   "cell_type": "markdown",
   "id": "6e361fbf-89a6-4c1b-9208-1cb1b8f627fd",
   "metadata": {},
   "source": [
    "## Import"
   ]
  },
  {
   "cell_type": "code",
   "execution_count": 1,
   "id": "a1e8d972-77f8-4046-bcea-57ed9110d27c",
   "metadata": {},
   "outputs": [],
   "source": [
    "import os \n",
    "os.chdir('/CSNG/studekat/ripple_band_project/code')"
   ]
  },
  {
   "cell_type": "code",
   "execution_count": 2,
   "id": "6ae05ef6-0a53-422e-9ac9-578514942f54",
   "metadata": {},
   "outputs": [],
   "source": [
    "from functions_analysis import *\n",
    "import pandas as pd\n",
    "import numpy as np\n",
    "import yaml\n",
    "import pickle\n",
    "import neo\n",
    "import elephant\n",
    "import quantities as pq"
   ]
  },
  {
   "cell_type": "markdown",
   "id": "1e4e3f68-169b-4e73-98d0-f7ff1d798d91",
   "metadata": {},
   "source": [
    "## Parameters"
   ]
  },
  {
   "cell_type": "code",
   "execution_count": 3,
   "id": "a136c6c0-d65f-42e2-b74f-22d03bf1c1f3",
   "metadata": {},
   "outputs": [],
   "source": [
    "with open(\"params_analysis.yml\") as f:\n",
    "    params = yaml.safe_load(f)\n",
    "### AUX = params['aux']\n",
    "\n",
    "DATA_FOLDER = params['data_folder']\n",
    "DATES = params['dates']\n",
    "MONKEY_LIST = ['L','N','F','A']"
   ]
  },
  {
   "cell_type": "markdown",
   "id": "85496b12-933b-41d8-9245-b61b6aa8129c",
   "metadata": {},
   "source": [
    "## Sandbox"
   ]
  },
  {
   "cell_type": "code",
   "execution_count": 10,
   "id": "97995b34-aa12-41f4-92bc-76eaaaef65d8",
   "metadata": {},
   "outputs": [],
   "source": [
    "name = f'eyes_indic_monkey_{monkey}_RS_date_{date}_common_times'\n",
    "with open(f'{MAIN_FOLDER}/metadata/EC_EO_indicators/{name}.pkl', 'rb') as f:\n",
    "    your_data = pickle.load(f)"
   ]
  },
  {
   "cell_type": "code",
   "execution_count": 11,
   "id": "24530ceb-e162-4610-ba6e-45d544bb7613",
   "metadata": {},
   "outputs": [
    {
     "data": {
      "text/plain": [
       "{'EC': array([0., 0., 0., ..., 0., 0., 0.], shape=(2460527,)),\n",
       " 'EO': array([1., 1., 1., ..., 0., 0., 0.], shape=(2460527,))}"
      ]
     },
     "execution_count": 11,
     "metadata": {},
     "output_type": "execute_result"
    }
   ],
   "source": [
    "your_data"
   ]
  },
  {
   "cell_type": "markdown",
   "id": "96e62cf5-c16f-47de-997a-4b161e3ccd10",
   "metadata": {},
   "source": [
    "## Creating EC, EO indicators, common times only"
   ]
  },
  {
   "cell_type": "code",
   "execution_count": 9,
   "id": "690e0fd7-b596-4cf1-a0e9-bdb0548f4fa9",
   "metadata": {},
   "outputs": [],
   "source": [
    "MAIN_FOLDER = '/CSNG/studekat/ripple_band_project'\n",
    "\n",
    "for monkey in MONKEY_LIST:\n",
    "    for date in DATES[monkey]['RS']:\n",
    "        df_eyes = pd.read_csv(f'{DATA_FOLDER}/macaque{monkey}_RS_{date}/epochs_macaque{monkey}_RS_{date}.csv')\n",
    "        duration_rec = params['times_all_arr'][monkey]['RS'][date][1] - params['times_all_arr'][monkey]['RS'][date][0] ### duration when all arrays are on\n",
    "        ### loading indicator for the whole duration of array 1 rec time, sometimes not even that time is covered, a bit shorter\n",
    "        EC_indic = create_indicator(df_eyes,start_col='t_start',stop_col='t_stop',state_col='state',\n",
    "                             positive_state='Closed_eyes',mult_factor=1000)\n",
    "        EO_indic = create_indicator(df_eyes,start_col='t_start',stop_col='t_stop',state_col='state',\n",
    "                             positive_state='Open_eyes',mult_factor=1000)\n",
    "        ### cutting only the common time\n",
    "        cut_EC_indic = np.zeros(duration_rec)\n",
    "        cut_EC_indic[:EC_indic.shape[0]] = EC_indic[:duration_rec]\n",
    "        cut_EO_indic = np.zeros(duration_rec)\n",
    "        cut_EO_indic[:EO_indic.shape[0]] = EO_indic[:duration_rec] \n",
    "\n",
    "        ### saving as a dictionary\n",
    "        eyes_indic_dict = {}\n",
    "        eyes_indic_dict['EC'] = cut_EC_indic\n",
    "        eyes_indic_dict['EO'] = cut_EO_indic\n",
    "\n",
    "        name = f'eyes_indic_monkey_{monkey}_RS_date_{date}_common_times'\n",
    "        ensure_dir_exists(f'{MAIN_FOLDER}/metadata/EC_EO_indicators/')\n",
    "        with open(f'{MAIN_FOLDER}/metadata/EC_EO_indicators/{name}.pkl', 'wb') as file:\n",
    "            pickle.dump(eyes_indic_dict, file)"
   ]
  },
  {
   "cell_type": "code",
   "execution_count": null,
   "id": "c05677f5-7cd4-4b83-88d7-3e4b4cd1256c",
   "metadata": {},
   "outputs": [],
   "source": []
  }
 ],
 "metadata": {
  "kernelspec": {
   "display_name": "Python 3 (ipykernel)",
   "language": "python",
   "name": "python3"
  },
  "language_info": {
   "codemirror_mode": {
    "name": "ipython",
    "version": 3
   },
   "file_extension": ".py",
   "mimetype": "text/x-python",
   "name": "python",
   "nbconvert_exporter": "python",
   "pygments_lexer": "ipython3",
   "version": "3.12.3"
  }
 },
 "nbformat": 4,
 "nbformat_minor": 5
}
